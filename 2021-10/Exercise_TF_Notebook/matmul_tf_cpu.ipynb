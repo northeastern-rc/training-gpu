{
 "cells": [
  {
   "cell_type": "markdown",
   "id": "004c9ef9",
   "metadata": {},
   "source": [
    "```\n",
    "conda create -n tf-gpu tensorflow-gpu\n",
    "conda activate tf-gpu\n",
    "conda install anaconda\n",
    "```"
   ]
  },
  {
   "cell_type": "markdown",
   "id": "e5fb34fb",
   "metadata": {},
   "source": [
    "TF doesn't allow easy switch between CPU and GPU. Requires notebook restart to switch, hence separate notebooks here for CPU and GPU"
   ]
  },
  {
   "cell_type": "code",
   "execution_count": 1,
   "id": "47dfabb6-90a5-49d1-987b-8f73e40fc8b3",
   "metadata": {},
   "outputs": [
    {
     "name": "stdout",
     "output_type": "stream",
     "text": [
      "/home/m.joshi/.conda/envs/TF_env_training/bin/python\n"
     ]
    }
   ],
   "source": [
    "!which python"
   ]
  },
  {
   "cell_type": "code",
   "execution_count": 2,
   "id": "0b489ab6",
   "metadata": {},
   "outputs": [],
   "source": [
    "import tensorflow as tf\n",
    "import os"
   ]
  },
  {
   "cell_type": "markdown",
   "id": "8a61bb6e",
   "metadata": {},
   "source": [
    "### CPU"
   ]
  },
  {
   "cell_type": "code",
   "execution_count": 3,
   "id": "f35821af",
   "metadata": {},
   "outputs": [
    {
     "name": "stdout",
     "output_type": "stream",
     "text": [
      "CUDA Device : -1\n",
      "No GPU found\n"
     ]
    }
   ],
   "source": [
    "#Disable GPU for CPU Run\n",
    "\n",
    "os.environ['CUDA_VISIBLE_DEVICES'] = '-1'\n",
    "print (f\"CUDA Device : {os.environ['CUDA_VISIBLE_DEVICES']}\") \n",
    "if tf.test.gpu_device_name():\n",
    "    print('GPU found')\n",
    "else:\n",
    "    print(\"No GPU found\")"
   ]
  },
  {
   "cell_type": "code",
   "execution_count": 4,
   "id": "7325fcf6",
   "metadata": {},
   "outputs": [
    {
     "name": "stdout",
     "output_type": "stream",
     "text": [
      "Validate TF is installed with CUDA support : True\n",
      "Validate GPU is available for compute: []\n"
     ]
    }
   ],
   "source": [
    "print (f\"Validate TF is installed with CUDA support : {tf.test.is_built_with_cuda()}\")\n",
    "print (f\"Validate GPU is available for compute: {tf.config.list_physical_devices('GPU')}\")"
   ]
  },
  {
   "cell_type": "code",
   "execution_count": 5,
   "id": "242eb80d",
   "metadata": {},
   "outputs": [
    {
     "name": "stdout",
     "output_type": "stream",
     "text": [
      "TF Version : 2.2.0\n"
     ]
    }
   ],
   "source": [
    "tf.random.set_seed(42)\n",
    "print (f\"TF Version : {tf.__version__}\") "
   ]
  },
  {
   "cell_type": "code",
   "execution_count": 6,
   "id": "bf618919",
   "metadata": {},
   "outputs": [
    {
     "name": "stdout",
     "output_type": "stream",
     "text": [
      "(5000, 5000)\n"
     ]
    }
   ],
   "source": [
    "tensor1 = tf.random.normal([5000,10000])\n",
    "tensor2 = tf.random.normal([10000,5000])\n",
    "result = tf.matmul(tensor1, tensor2)\n",
    "print (result.shape)"
   ]
  },
  {
   "cell_type": "code",
   "execution_count": 7,
   "id": "897e2055",
   "metadata": {},
   "outputs": [
    {
     "name": "stdout",
     "output_type": "stream",
     "text": [
      "1.59 s ± 17.9 ms per loop (mean ± std. dev. of 7 runs, 1 loop each)\n"
     ]
    }
   ],
   "source": [
    "%%timeit -r 7 -n 1\n",
    "tf.matmul(tensor1, tensor2)"
   ]
  },
  {
   "cell_type": "markdown",
   "id": "645c9f88",
   "metadata": {},
   "source": [
    "CPU run time ~ 8.9s   #use node in exclusive mode for fair benchmarking of TF and PyTorch "
   ]
  },
  {
   "cell_type": "code",
   "execution_count": null,
   "id": "034f2271",
   "metadata": {},
   "outputs": [],
   "source": []
  },
  {
   "cell_type": "code",
   "execution_count": null,
   "id": "5d2235bf",
   "metadata": {},
   "outputs": [],
   "source": []
  }
 ],
 "metadata": {
  "kernelspec": {
   "display_name": "Python 3",
   "language": "python",
   "name": "python3"
  },
  "language_info": {
   "codemirror_mode": {
    "name": "ipython",
    "version": 3
   },
   "file_extension": ".py",
   "mimetype": "text/x-python",
   "name": "python",
   "nbconvert_exporter": "python",
   "pygments_lexer": "ipython3",
   "version": "3.7.10"
  }
 },
 "nbformat": 4,
 "nbformat_minor": 5
}
